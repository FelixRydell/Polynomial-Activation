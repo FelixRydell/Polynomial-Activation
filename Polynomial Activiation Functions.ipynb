{
 "cells": [
  {
   "cell_type": "markdown",
   "id": "006a5e76",
   "metadata": {},
   "source": [
    "# Training Coefficients of Polynomial Activation Functions\n",
    "\n",
    "In this notebook we use polynomial activation functions to train a basic neural network on the MNIST database, with the addition that we also train the coefficients of the activation functions. \n",
    "\n",
    "The result is that for low enough degrees, the activation polynomial tends to a polynomial that looks locally like ReLU at the origin.\n",
    "\n",
    "We start by importing packages."
   ]
  },
  {
   "cell_type": "code",
   "execution_count": 9,
   "id": "3935b920",
   "metadata": {},
   "outputs": [],
   "source": [
    "import torch\n",
    "import torch.nn as nn\n",
    "import torch.optim as optim\n",
    "from torch.utils.data import DataLoader\n",
    "from torchvision.datasets import MNIST\n",
    "from torchvision.transforms import ToTensor\n",
    "from tqdm import tqdm\n",
    "\n",
    "import random\n",
    "\n",
    "import numpy as np\n",
    "import matplotlib.pyplot as plt"
   ]
  },
  {
   "cell_type": "markdown",
   "id": "560d6eab",
   "metadata": {},
   "source": [
    "We now fix the degree of the polynomial activation function."
   ]
  },
  {
   "cell_type": "code",
   "execution_count": 10,
   "id": "cd3bf04e",
   "metadata": {},
   "outputs": [],
   "source": [
    "deg = 5"
   ]
  },
  {
   "cell_type": "markdown",
   "id": "68fe94c8",
   "metadata": {},
   "source": [
    "We define the network."
   ]
  },
  {
   "cell_type": "code",
   "execution_count": 11,
   "id": "27b5c105",
   "metadata": {},
   "outputs": [],
   "source": [
    "# Define the custom activation function\n",
    "class CustomActivation(nn.Module):\n",
    "    def __init__(self):\n",
    "        super().__init__()\n",
    "        # nn.Parameter(torch.randn(deg+1)) \n",
    "        self.alpha = self.alpha = nn.Parameter(torch.Tensor(deg+1).fill_(1.0)) #.to(device) # Move alpha to device\n",
    "        #self.beta = nn.Parameter(torch.Tensor([1.0]))\n",
    "        \n",
    "    def forward(self, x):\n",
    "        dot_products = 0\n",
    "        for i in range(0,deg+1): dot_products = dot_products + self.alpha[i]*x**i\n",
    "        return dot_products # + self.beta*x**deg\n",
    "    \n",
    "# Define the neural network\n",
    "class Net(nn.Module):\n",
    "    def __init__(self):\n",
    "        super().__init__()\n",
    "        self.fc1 = nn.Linear(28*28, 128)\n",
    "        self.act1 = CustomActivation()  # Use custom activation function\n",
    "        self.fc2 = nn.Linear(128, 10)\n",
    "        # self.relu = nn.ReLU()\n",
    "\n",
    "    def forward(self, x):\n",
    "        x = x.view(-1, 28*28)\n",
    "        x = self.fc1(x)\n",
    "        x = self.act1(x)  # self.relu(x) # self.act1(x)  # Apply custom activation function\n",
    "       # print(x)\n",
    "        x = self.fc2(x)\n",
    "        return x\n",
    "\n"
   ]
  },
  {
   "cell_type": "markdown",
   "id": "47b61ad7",
   "metadata": {},
   "source": [
    "We load the MNIST dataset."
   ]
  },
  {
   "cell_type": "code",
   "execution_count": 12,
   "id": "8ddf5065",
   "metadata": {},
   "outputs": [],
   "source": [
    "# Load the MNIST dataset\n",
    "train_data = MNIST(root='./data', train=True, download=True, transform=ToTensor())\n",
    "test_data = MNIST(root='./data', train=False, download=True, transform=ToTensor())\n",
    "\n",
    "# Define the data loaders\n",
    "batch_size = 64\n",
    "train_loader = DataLoader(train_data, batch_size=batch_size, shuffle=True)\n",
    "test_loader = DataLoader(test_data, batch_size=batch_size, shuffle=False)\n",
    "\n",
    "# Train the neural network\n",
    "device = torch.device(\"cuda\" if torch.cuda.is_available() else \"cpu\")\n",
    "net = Net().to(device)\n",
    "\n",
    "# Define the loss function and optimizer\n",
    "criterion = nn.CrossEntropyLoss()\n",
    "optimizer = optim.Adam(net.parameters(), lr=0.001, weight_decay=1e-4)"
   ]
  },
  {
   "cell_type": "markdown",
   "id": "3214bd7a",
   "metadata": {},
   "source": [
    "We train for 10 epochs."
   ]
  },
  {
   "cell_type": "code",
   "execution_count": 13,
   "id": "bf02c13b",
   "metadata": {},
   "outputs": [
    {
     "name": "stderr",
     "output_type": "stream",
     "text": [
      "100%|███████████████████████████████████████████████████████████████████████████████| 938/938 [00:07<00:00, 132.67it/s]\n"
     ]
    },
    {
     "name": "stdout",
     "output_type": "stream",
     "text": [
      "Epoch 1: loss=0.3114\n"
     ]
    },
    {
     "name": "stderr",
     "output_type": "stream",
     "text": [
      "100%|████████████████████████████████████████████████████████████████████████████████| 938/938 [00:10<00:00, 85.79it/s]\n"
     ]
    },
    {
     "name": "stdout",
     "output_type": "stream",
     "text": [
      "Epoch 2: loss=0.1499\n"
     ]
    },
    {
     "name": "stderr",
     "output_type": "stream",
     "text": [
      "100%|████████████████████████████████████████████████████████████████████████████████| 938/938 [00:14<00:00, 63.57it/s]\n"
     ]
    },
    {
     "name": "stdout",
     "output_type": "stream",
     "text": [
      "Epoch 3: loss=0.1149\n"
     ]
    },
    {
     "name": "stderr",
     "output_type": "stream",
     "text": [
      "100%|████████████████████████████████████████████████████████████████████████████████| 938/938 [00:15<00:00, 61.98it/s]\n"
     ]
    },
    {
     "name": "stdout",
     "output_type": "stream",
     "text": [
      "Epoch 4: loss=0.1136\n"
     ]
    },
    {
     "name": "stderr",
     "output_type": "stream",
     "text": [
      "100%|████████████████████████████████████████████████████████████████████████████████| 938/938 [00:14<00:00, 62.57it/s]\n"
     ]
    },
    {
     "name": "stdout",
     "output_type": "stream",
     "text": [
      "Epoch 5: loss=0.0894\n"
     ]
    },
    {
     "name": "stderr",
     "output_type": "stream",
     "text": [
      "100%|████████████████████████████████████████████████████████████████████████████████| 938/938 [00:14<00:00, 64.58it/s]\n"
     ]
    },
    {
     "name": "stdout",
     "output_type": "stream",
     "text": [
      "Epoch 6: loss=0.0826\n"
     ]
    },
    {
     "name": "stderr",
     "output_type": "stream",
     "text": [
      "100%|████████████████████████████████████████████████████████████████████████████████| 938/938 [00:14<00:00, 64.30it/s]\n"
     ]
    },
    {
     "name": "stdout",
     "output_type": "stream",
     "text": [
      "Epoch 7: loss=0.0693\n"
     ]
    },
    {
     "name": "stderr",
     "output_type": "stream",
     "text": [
      "100%|████████████████████████████████████████████████████████████████████████████████| 938/938 [00:15<00:00, 60.07it/s]\n"
     ]
    },
    {
     "name": "stdout",
     "output_type": "stream",
     "text": [
      "Epoch 8: loss=0.0775\n"
     ]
    },
    {
     "name": "stderr",
     "output_type": "stream",
     "text": [
      "100%|████████████████████████████████████████████████████████████████████████████████| 938/938 [00:15<00:00, 59.45it/s]\n"
     ]
    },
    {
     "name": "stdout",
     "output_type": "stream",
     "text": [
      "Epoch 9: loss=0.0602\n"
     ]
    },
    {
     "name": "stderr",
     "output_type": "stream",
     "text": [
      "100%|████████████████████████████████████████████████████████████████████████████████| 938/938 [00:16<00:00, 56.92it/s]"
     ]
    },
    {
     "name": "stdout",
     "output_type": "stream",
     "text": [
      "Epoch 10: loss=0.0782\n"
     ]
    },
    {
     "name": "stderr",
     "output_type": "stream",
     "text": [
      "\n"
     ]
    }
   ],
   "source": [
    "epochs = 10\n",
    "\n",
    "for epoch in range(epochs):\n",
    "    running_loss = 0.0\n",
    "    for i, (data, target) in tqdm(enumerate(train_loader), total=len(train_loader)):\n",
    "        inputs, labels = data.to(device), target.to(device)\n",
    "        optimizer.zero_grad()\n",
    "        outputs = net(inputs)\n",
    "        loss = criterion(outputs, labels)\n",
    "        loss.backward()\n",
    "        optimizer.step()\n",
    "        running_loss += loss.item()\n",
    "    print(f\"Epoch {epoch+1}: loss={running_loss/len(train_loader):.4f}\")"
   ]
  },
  {
   "cell_type": "markdown",
   "id": "f82dca98",
   "metadata": {},
   "source": [
    "We measure accuracy on test data. "
   ]
  },
  {
   "cell_type": "code",
   "execution_count": 14,
   "id": "6405a9d0",
   "metadata": {},
   "outputs": [
    {
     "name": "stdout",
     "output_type": "stream",
     "text": [
      "Accuracy on test set: 97.26%\n"
     ]
    }
   ],
   "source": [
    "correct = 0\n",
    "total = 0\n",
    "with torch.no_grad():\n",
    "    for (data, target) in test_loader:\n",
    "        images, labels = data.to(device), target.to(device)\n",
    "        outputs = net(images)\n",
    "        _, predicted = torch.max(outputs.data, 1)\n",
    "        total += labels.size(0)\n",
    "        correct += (predicted == labels).sum().item()\n",
    "\n",
    "print(f\"Accuracy on test set: {100 * correct / total:.2f}%\")"
   ]
  },
  {
   "cell_type": "markdown",
   "id": "695f66b3",
   "metadata": {},
   "source": [
    "We plot the polynomial activation function."
   ]
  },
  {
   "cell_type": "code",
   "execution_count": 15,
   "id": "d446a39f",
   "metadata": {},
   "outputs": [
    {
     "data": {
      "image/png": "[encoded data removed]",
      "text/plain": [
       "<Figure size 640x480 with 1 Axes>"
      ]
     },
     "metadata": {},
     "output_type": "display_data"
    }
   ],
   "source": [
    "\n",
    "# Define the polynomial function\n",
    "coeff = list(net.parameters())[2]\n",
    "# print(list(net.parameters())[2])\n",
    "\n",
    "def polynomial(x):\n",
    "    value = 0\n",
    "    for i in range(0,deg+1): value = value + coeff[i].item()*x**i\n",
    "    return value # + x**deg\n",
    "\n",
    "# Define the ReLU function\n",
    "def relu(x):\n",
    "    return np.maximum(0, x)\n",
    "\n",
    "# Create an array of x-values\n",
    "x = np.linspace(-5, 5, 100)\n",
    "\n",
    "# Evaluate the polynomial function at each x-value\n",
    "y = polynomial(x)\n",
    "\n",
    "plt.axhline(y=0, color='black', linestyle='-')\n",
    "plt.axvline(x=0, color='black', linestyle='-')\n",
    "plt.plot(x, y)\n",
    "plt.plot(x, relu(x), color='red', linestyle='--')\n",
    "#plt.plot(range(5))\n",
    "plt.xlim(-4, 4)\n",
    "plt.ylim(-2, 6)\n",
    "ax = plt.gca()\n",
    "ax.set_aspect('equal', adjustable='box')\n",
    "plt.draw()\n",
    "\n"
   ]
  },
  {
   "cell_type": "code",
   "execution_count": 16,
   "id": "02812792",
   "metadata": {},
   "outputs": [
    {
     "data": {
      "image/png": "[encoded data removed]",
      "text/plain": [
       "<Figure size 640x480 with 1 Axes>"
      ]
     },
     "metadata": {},
     "output_type": "display_data"
    }
   ],
   "source": [
    "plt.axhline(y=0, color='black', linestyle='-')\n",
    "plt.axvline(x=0, color='black', linestyle='-')\n",
    "plt.plot(x, y)\n",
    "plt.plot(x, relu(x), color='red', linestyle='--')\n",
    "#plt.plot(range(5))\n",
    "plt.xlim(-10, 10)\n",
    "plt.ylim(-4, 16)\n",
    "ax = plt.gca()\n",
    "ax.set_aspect('equal', adjustable='box')\n",
    "plt.draw()"
   ]
  },
  {
   "cell_type": "markdown",
   "id": "9fe87ae4",
   "metadata": {},
   "source": [
    "# Conclusions\n",
    "\n",
    "With activation function on the form $x^2+bx$, we get $x^2+1.1490*x$ and an accuracy 97.42 % on test set. In the case of degree 1, we get about 92.26 %. With $x^2$ we get 97.42%. Degree 5 and 6 activation polynomials have about 97 % accuracy. With $x^2+x$, we get 92.40 %.\n",
    "\n",
    "It is not clear that considering training three coefficients $ax^2+bx+c$ improves the performance for the degree 2 activation function. Perhaps $a$ and $c$ can be cancelled out by other coefficients. In any case, we get the polynomial $1.252*x^2+1.1438*x+0.1225$."
   ]
  },
  {
   "cell_type": "code",
   "execution_count": null,
   "id": "0bfdd619",
   "metadata": {},
   "outputs": [],
   "source": []
  }
 ],
 "metadata": {
  "kernelspec": {
   "display_name": "Python 3 (ipykernel)",
   "language": "python",
   "name": "python3"
  },
  "language_info": {
   "codemirror_mode": {
    "name": "ipython",
    "version": 3
   },
   "file_extension": ".py",
   "mimetype": "text/x-python",
   "name": "python",
   "nbconvert_exporter": "python",
   "pygments_lexer": "ipython3",
   "version": "3.11.5"
  }
 },
 "nbformat": 4,
 "nbformat_minor": 5
}
